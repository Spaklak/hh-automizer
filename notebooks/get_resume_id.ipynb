{
 "cells": [
  {
   "cell_type": "markdown",
   "metadata": {},
   "source": [
    "resume_id **получается 1 раз** и нужно самим записать в config.yaml\n",
    "\n",
    "Нужно для того, чтобы получить полное описание резюме и потом сопостовлять с вакансией\n",
    "\n",
    "На вывод получаете:\n",
    "1. Название резюме (как с hh.ru)\n",
    "2. id этого резюме, который дальше записываете в config.yaml\n",
    "\n",
    "Нужно делать самому т.к. у одного пользователя в кабинете может быть несколько резюме"
   ]
  },
  {
   "cell_type": "code",
   "execution_count": null,
   "metadata": {},
   "outputs": [],
   "source": [
    "import sys\n",
    "import os\n",
    "sys.path.append(os.path.abspath(os.path.join('..', 'src')))\n",
    "from hh_automizer import HHAutomizer"
   ]
  },
  {
   "cell_type": "code",
   "execution_count": null,
   "metadata": {},
   "outputs": [],
   "source": [
    "temp = HHAutomizer()"
   ]
  },
  {
   "cell_type": "code",
   "execution_count": null,
   "metadata": {},
   "outputs": [],
   "source": [
    "resumes = temp.get_resumes()"
   ]
  },
  {
   "cell_type": "code",
   "execution_count": null,
   "metadata": {},
   "outputs": [],
   "source": []
  }
 ],
 "metadata": {
  "kernelspec": {
   "display_name": ".venv",
   "language": "python",
   "name": "python3"
  },
  "language_info": {
   "codemirror_mode": {
    "name": "ipython",
    "version": 3
   },
   "file_extension": ".py",
   "mimetype": "text/x-python",
   "name": "python",
   "nbconvert_exporter": "python",
   "pygments_lexer": "ipython3",
   "version": "3.12.2"
  }
 },
 "nbformat": 4,
 "nbformat_minor": 2
}

{
 "cells": [
  {
   "cell_type": "markdown",
   "metadata": {},
   "source": [
    "Для примера я использую уже укороченную версию резюме, но, если у вас такой нет, то вы можете выполнить команду: `set_resume_summary()`\n",
    "\n",
    "У вас создастся файл *resume_summary.txt*, а также в переменную *resume_summary* будет записано описание вашего резюме\n",
    "\n",
    "В будущем рекомендую вставлять текст при создании класса для **экономии токенов**\n",
    "\n",
    "Также вы можете вставлять полную версию своего резюме, но тем самым вы увеличите общее количество затрачиваемых токенов. Будьте аккуратны"
   ]
  },
  {
   "cell_type": "code",
   "execution_count": 7,
   "metadata": {},
   "outputs": [],
   "source": [
    "import sys\n",
    "import os\n",
    "\n",
    "sys.path.append(os.path.abspath(os.path.join('..', 'src')))\n",
    "\n",
    "from hh_automizer import HHAutomizer\n"
   ]
  },
  {
   "cell_type": "code",
   "execution_count": null,
   "metadata": {},
   "outputs": [],
   "source": [
    "summary_res = open('resume_summary.txt', 'r', encoding='utf-8').read().replace('\\n', '')"
   ]
  },
  {
   "cell_type": "code",
   "execution_count": null,
   "metadata": {},
   "outputs": [],
   "source": [
    "temp = HHAutomizer(summary_res)"
   ]
  },
  {
   "cell_type": "code",
   "execution_count": 6,
   "metadata": {},
   "outputs": [
    {
     "name": "stdout",
     "output_type": "stream",
     "text": [
      "Название компании: Aston\n",
      "Оценка LLM: 6\n",
      "Вакансия Data analyst / Аналитик данных (стажер) не подходит по требованиям. ID вакансии: 118769431\n",
      "----------------------------------------\n",
      "Название компании: МАГНИТ, Розничная сеть\n",
      "Оценка LLM: 8\n",
      "Название вакансии: ML-инженер | E-commerce\n",
      "Требуемый опыт работы: От 1 года до 3 лет\n",
      "Отлик успешно отправлен. ID вакансии: 118770894\n",
      "----------------------------------------\n",
      "========================================\n",
      "\n",
      "Всего использовано токенов: 2413\n",
      "\n",
      "Обработано вакансий: 2\n",
      "\n",
      "Откликов сделано: 1\n",
      "\n",
      "========================================\n"
     ]
    }
   ],
   "source": [
    "temp.make_responses()"
   ]
  },
  {
   "cell_type": "code",
   "execution_count": null,
   "metadata": {},
   "outputs": [],
   "source": []
  }
 ],
 "metadata": {
  "kernelspec": {
   "display_name": ".venv",
   "language": "python",
   "name": "python3"
  },
  "language_info": {
   "codemirror_mode": {
    "name": "ipython",
    "version": 3
   },
   "file_extension": ".py",
   "mimetype": "text/x-python",
   "name": "python",
   "nbconvert_exporter": "python",
   "pygments_lexer": "ipython3",
   "version": "3.12.2"
  }
 },
 "nbformat": 4,
 "nbformat_minor": 2
}

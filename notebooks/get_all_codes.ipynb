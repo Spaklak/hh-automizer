{
 "cells": [
  {
   "cell_type": "markdown",
   "metadata": {},
   "source": [
    "Алгоритм действий:\n",
    "\n",
    "1. Запускаем первые 2 ячейки\n",
    "2. Переходим по ссылке, нажимаем \"продолжить\"\n",
    "3. Попадаем на другую страницу, нажимаем F12, далее network и копируем код, вставляем в `auth_code`\n",
    "4. Запускаем последние 2 ячейки и оттуда копируем *access_token* и вставляем в config.yaml"
   ]
  },
  {
   "cell_type": "code",
   "execution_count": 1,
   "metadata": {},
   "outputs": [],
   "source": [
    "import sys\n",
    "import os\n",
    "import requests\n",
    "\n",
    "\n",
    "current_dir = os.getcwd()\n",
    "config_dir = os.path.abspath(os.path.join(current_dir, '..', 'config'))\n",
    "sys.path.append(config_dir)\n",
    "\n",
    "\n",
    "from config import get_config"
   ]
  },
  {
   "cell_type": "code",
   "execution_count": null,
   "metadata": {},
   "outputs": [],
   "source": [
    "config = get_config()\n",
    "print(f\"https://hh.ru/oauth/authorize?response_type=code&client_id={config['client_id']}&state={config['state_value']}&redirect_uri={config['redirect_uri']}\")"
   ]
  },
  {
   "cell_type": "code",
   "execution_count": null,
   "metadata": {},
   "outputs": [],
   "source": [
    "# код, полученный из страницы\n",
    "auth_code = ''"
   ]
  },
  {
   "cell_type": "code",
   "execution_count": null,
   "metadata": {},
   "outputs": [],
   "source": [
    "# access_token добавляем в config.yaml\n",
    "\n",
    "url = \"https://hh.ru/oauth/token\" \n",
    "body = { \n",
    "        'grant_type': 'authorization_code', \n",
    "        'client_id': config['client_id'], \n",
    "        'client_secret': config['client_secret'], \n",
    "        'code': auth_code, \n",
    "        'redirect_uri': config['redirect_uri'] }\n",
    "\n",
    "response = requests.post(url, data=body)\n",
    "\n",
    "tokens = response.json()\n",
    "\n",
    "print(tokens)"
   ]
  },
  {
   "cell_type": "code",
   "execution_count": null,
   "metadata": {},
   "outputs": [],
   "source": []
  }
 ],
 "metadata": {
  "kernelspec": {
   "display_name": ".venv",
   "language": "python",
   "name": "python3"
  },
  "language_info": {
   "codemirror_mode": {
    "name": "ipython",
    "version": 3
   },
   "file_extension": ".py",
   "mimetype": "text/x-python",
   "name": "python",
   "nbconvert_exporter": "python",
   "pygments_lexer": "ipython3",
   "version": "3.12.2"
  }
 },
 "nbformat": 4,
 "nbformat_minor": 2
}
